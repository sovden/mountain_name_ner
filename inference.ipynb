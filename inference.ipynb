{
 "cells": [
  {
   "cell_type": "code",
   "execution_count": 3,
   "id": "d27feaa4-48c0-4de2-be75-fbdca77ebc1d",
   "metadata": {},
   "outputs": [],
   "source": [
    "from inference_util import PrepareModel"
   ]
  },
  {
   "cell_type": "code",
   "execution_count": 4,
   "id": "d3cee02b-f417-4ed4-baa1-768feee7ee5a",
   "metadata": {},
   "outputs": [],
   "source": [
    "start_model = PrepareModel()"
   ]
  },
  {
   "cell_type": "code",
   "execution_count": 5,
   "id": "62a72767-f7cb-4331-80e0-c5883f55c450",
   "metadata": {},
   "outputs": [],
   "source": [
    "start_model.predict_entity(\"our module landed at the foot of Arutaruki\")\n",
    "start_model.predict_entity(\"Last year I climbed on Hoverla and it was fun\")\n",
    "start_model.predict_entity(\"The scientist Marie Curie won the Nobel Prize in Physics and Chemistry.\")"
   ]
  },
  {
   "cell_type": "code",
   "execution_count": null,
   "id": "8742aa4e-55b2-4bbb-9957-67992f74fc07",
   "metadata": {},
   "outputs": [],
   "source": []
  }
 ],
 "metadata": {
  "kernelspec": {
   "display_name": "Python 3 (ipykernel)",
   "language": "python",
   "name": "python3"
  },
  "language_info": {
   "codemirror_mode": {
    "name": "ipython",
    "version": 3
   },
   "file_extension": ".py",
   "mimetype": "text/x-python",
   "name": "python",
   "nbconvert_exporter": "python",
   "pygments_lexer": "ipython3",
   "version": "3.9.7"
  }
 },
 "nbformat": 4,
 "nbformat_minor": 5
}
