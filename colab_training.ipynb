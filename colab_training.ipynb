{
 "cells": [
  {
   "cell_type": "code",
   "execution_count": 1,
   "id": "de673ed2-bbf3-4248-8cef-c3cd9d09bd9d",
   "metadata": {},
   "outputs": [
    {
     "name": "stdout",
     "output_type": "stream",
     "text": [
      "Requirement already satisfied: transformers[torch] in c:\\users\\denys\\anaconda3\\lib\\site-packages (4.35.2)\n",
      "Requirement already satisfied: pyyaml>=5.1 in c:\\users\\denys\\anaconda3\\lib\\site-packages (from transformers[torch]) (6.0)\n",
      "Requirement already satisfied: tokenizers<0.19,>=0.14 in c:\\users\\denys\\anaconda3\\lib\\site-packages (from transformers[torch]) (0.15.0)\n",
      "Requirement already satisfied: filelock in c:\\users\\denys\\anaconda3\\lib\\site-packages (from transformers[torch]) (3.3.1)\n",
      "Requirement already satisfied: numpy>=1.17 in c:\\users\\denys\\anaconda3\\lib\\site-packages (from transformers[torch]) (1.20.3)\n",
      "Requirement already satisfied: tqdm>=4.27 in c:\\users\\denys\\anaconda3\\lib\\site-packages (from transformers[torch]) (4.62.3)\n",
      "Requirement already satisfied: packaging>=20.0 in c:\\users\\denys\\anaconda3\\lib\\site-packages (from transformers[torch]) (21.0)\n",
      "Requirement already satisfied: requests in c:\\users\\denys\\anaconda3\\lib\\site-packages (from transformers[torch]) (2.26.0)\n",
      "Requirement already satisfied: huggingface-hub<1.0,>=0.16.4 in c:\\users\\denys\\anaconda3\\lib\\site-packages (from transformers[torch]) (0.19.4)\n",
      "Requirement already satisfied: regex!=2019.12.17 in c:\\users\\denys\\anaconda3\\lib\\site-packages (from transformers[torch]) (2021.8.3)\n",
      "Requirement already satisfied: safetensors>=0.3.1 in c:\\users\\denys\\anaconda3\\lib\\site-packages (from transformers[torch]) (0.4.0)\n",
      "Requirement already satisfied: torch!=1.12.0,>=1.10 in c:\\users\\denys\\anaconda3\\lib\\site-packages (from transformers[torch]) (2.0.1)\n",
      "Requirement already satisfied: accelerate>=0.20.3 in c:\\users\\denys\\anaconda3\\lib\\site-packages (from transformers[torch]) (0.24.1)\n",
      "Requirement already satisfied: psutil in c:\\users\\denys\\anaconda3\\lib\\site-packages (from accelerate>=0.20.3->transformers[torch]) (5.8.0)\n",
      "Requirement already satisfied: typing-extensions>=3.7.4.3 in c:\\users\\denys\\anaconda3\\lib\\site-packages (from huggingface-hub<1.0,>=0.16.4->transformers[torch]) (4.6.3)\n",
      "Requirement already satisfied: fsspec>=2023.5.0 in c:\\users\\denys\\anaconda3\\lib\\site-packages (from huggingface-hub<1.0,>=0.16.4->transformers[torch]) (2023.10.0)\n",
      "Requirement already satisfied: pyparsing>=2.0.2 in c:\\users\\denys\\anaconda3\\lib\\site-packages (from packaging>=20.0->transformers[torch]) (3.0.4)\n",
      "Requirement already satisfied: sympy in c:\\users\\denys\\anaconda3\\lib\\site-packages (from torch!=1.12.0,>=1.10->transformers[torch]) (1.9)\n",
      "Requirement already satisfied: networkx in c:\\users\\denys\\anaconda3\\lib\\site-packages (from torch!=1.12.0,>=1.10->transformers[torch]) (2.6.3)\n",
      "Requirement already satisfied: jinja2 in c:\\users\\denys\\anaconda3\\lib\\site-packages (from torch!=1.12.0,>=1.10->transformers[torch]) (2.11.3)\n",
      "Requirement already satisfied: colorama in c:\\users\\denys\\anaconda3\\lib\\site-packages (from tqdm>=4.27->transformers[torch]) (0.4.4)\n",
      "Requirement already satisfied: MarkupSafe>=0.23 in c:\\users\\denys\\anaconda3\\lib\\site-packages (from jinja2->torch!=1.12.0,>=1.10->transformers[torch]) (1.1.1)\n",
      "Requirement already satisfied: charset-normalizer~=2.0.0 in c:\\users\\denys\\anaconda3\\lib\\site-packages (from requests->transformers[torch]) (2.0.4)\n",
      "Requirement already satisfied: certifi>=2017.4.17 in c:\\users\\denys\\anaconda3\\lib\\site-packages (from requests->transformers[torch]) (2023.7.22)\n",
      "Requirement already satisfied: idna<4,>=2.5 in c:\\users\\denys\\anaconda3\\lib\\site-packages (from requests->transformers[torch]) (3.2)\n",
      "Requirement already satisfied: urllib3<1.27,>=1.21.1 in c:\\users\\denys\\anaconda3\\lib\\site-packages (from requests->transformers[torch]) (1.26.7)\n",
      "Requirement already satisfied: mpmath>=0.19 in c:\\users\\denys\\anaconda3\\lib\\site-packages (from sympy->torch!=1.12.0,>=1.10->transformers[torch]) (1.2.1)\n",
      "Requirement already satisfied: datasets in c:\\users\\denys\\anaconda3\\lib\\site-packages (2.15.0)\n",
      "Requirement already satisfied: packaging in c:\\users\\denys\\anaconda3\\lib\\site-packages (from datasets) (21.0)\n",
      "Requirement already satisfied: fsspec[http]<=2023.10.0,>=2023.1.0 in c:\\users\\denys\\anaconda3\\lib\\site-packages (from datasets) (2023.10.0)\n",
      "Requirement already satisfied: multiprocess in c:\\users\\denys\\anaconda3\\lib\\site-packages (from datasets) (0.70.15)\n",
      "Requirement already satisfied: requests>=2.19.0 in c:\\users\\denys\\anaconda3\\lib\\site-packages (from datasets) (2.26.0)\n",
      "Requirement already satisfied: pyarrow>=8.0.0 in c:\\users\\denys\\anaconda3\\lib\\site-packages (from datasets) (14.0.1)\n",
      "Requirement already satisfied: pyarrow-hotfix in c:\\users\\denys\\anaconda3\\lib\\site-packages (from datasets) (0.6)\n",
      "Requirement already satisfied: huggingface-hub>=0.18.0 in c:\\users\\denys\\anaconda3\\lib\\site-packages (from datasets) (0.19.4)\n",
      "Requirement already satisfied: aiohttp in c:\\users\\denys\\anaconda3\\lib\\site-packages (from datasets) (3.9.0)\n",
      "Requirement already satisfied: pandas in c:\\users\\denys\\anaconda3\\lib\\site-packages (from datasets) (1.3.4)\n",
      "Requirement already satisfied: dill<0.3.8,>=0.3.0 in c:\\users\\denys\\anaconda3\\lib\\site-packages (from datasets) (0.3.7)\n",
      "Requirement already satisfied: pyyaml>=5.1 in c:\\users\\denys\\anaconda3\\lib\\site-packages (from datasets) (6.0)\n",
      "Requirement already satisfied: tqdm>=4.62.1 in c:\\users\\denys\\anaconda3\\lib\\site-packages (from datasets) (4.62.3)\n",
      "Requirement already satisfied: numpy>=1.17 in c:\\users\\denys\\anaconda3\\lib\\site-packages (from datasets) (1.20.3)\n",
      "Requirement already satisfied: xxhash in c:\\users\\denys\\anaconda3\\lib\\site-packages (from datasets) (3.4.1)\n",
      "Requirement already satisfied: async-timeout<5.0,>=4.0 in c:\\users\\denys\\anaconda3\\lib\\site-packages (from aiohttp->datasets) (4.0.3)\n",
      "Requirement already satisfied: frozenlist>=1.1.1 in c:\\users\\denys\\anaconda3\\lib\\site-packages (from aiohttp->datasets) (1.4.0)\n",
      "Requirement already satisfied: attrs>=17.3.0 in c:\\users\\denys\\anaconda3\\lib\\site-packages (from aiohttp->datasets) (21.2.0)\n",
      "Requirement already satisfied: yarl<2.0,>=1.0 in c:\\users\\denys\\anaconda3\\lib\\site-packages (from aiohttp->datasets) (1.9.3)\n",
      "Requirement already satisfied: multidict<7.0,>=4.5 in c:\\users\\denys\\anaconda3\\lib\\site-packages (from aiohttp->datasets) (6.0.4)\n",
      "Requirement already satisfied: aiosignal>=1.1.2 in c:\\users\\denys\\anaconda3\\lib\\site-packages (from aiohttp->datasets) (1.3.1)\n",
      "Requirement already satisfied: typing-extensions>=3.7.4.3 in c:\\users\\denys\\anaconda3\\lib\\site-packages (from huggingface-hub>=0.18.0->datasets) (4.6.3)\n",
      "Requirement already satisfied: filelock in c:\\users\\denys\\anaconda3\\lib\\site-packages (from huggingface-hub>=0.18.0->datasets) (3.3.1)\n",
      "Requirement already satisfied: pyparsing>=2.0.2 in c:\\users\\denys\\anaconda3\\lib\\site-packages (from packaging->datasets) (3.0.4)\n",
      "Requirement already satisfied: idna<4,>=2.5 in c:\\users\\denys\\anaconda3\\lib\\site-packages (from requests>=2.19.0->datasets) (3.2)\n",
      "Requirement already satisfied: urllib3<1.27,>=1.21.1 in c:\\users\\denys\\anaconda3\\lib\\site-packages (from requests>=2.19.0->datasets) (1.26.7)\n",
      "Requirement already satisfied: charset-normalizer~=2.0.0 in c:\\users\\denys\\anaconda3\\lib\\site-packages (from requests>=2.19.0->datasets) (2.0.4)\n",
      "Requirement already satisfied: certifi>=2017.4.17 in c:\\users\\denys\\anaconda3\\lib\\site-packages (from requests>=2.19.0->datasets) (2023.7.22)\n",
      "Requirement already satisfied: colorama in c:\\users\\denys\\anaconda3\\lib\\site-packages (from tqdm>=4.62.1->datasets) (0.4.4)\n",
      "Requirement already satisfied: python-dateutil>=2.7.3 in c:\\users\\denys\\anaconda3\\lib\\site-packages (from pandas->datasets) (2.8.2)\n",
      "Requirement already satisfied: pytz>=2017.3 in c:\\users\\denys\\anaconda3\\lib\\site-packages (from pandas->datasets) (2021.3)\n",
      "Requirement already satisfied: six>=1.5 in c:\\users\\denys\\anaconda3\\lib\\site-packages (from python-dateutil>=2.7.3->pandas->datasets) (1.16.0)\n",
      "Requirement already satisfied: seqeval in c:\\users\\denys\\anaconda3\\lib\\site-packages (1.2.2)\n",
      "Requirement already satisfied: scikit-learn>=0.21.3 in c:\\users\\denys\\anaconda3\\lib\\site-packages (from seqeval) (0.24.2)\n",
      "Requirement already satisfied: numpy>=1.14.0 in c:\\users\\denys\\anaconda3\\lib\\site-packages (from seqeval) (1.20.3)\n",
      "Requirement already satisfied: scipy>=0.19.1 in c:\\users\\denys\\anaconda3\\lib\\site-packages (from scikit-learn>=0.21.3->seqeval) (1.7.1)\n",
      "Requirement already satisfied: threadpoolctl>=2.0.0 in c:\\users\\denys\\anaconda3\\lib\\site-packages (from scikit-learn>=0.21.3->seqeval) (2.2.0)\n",
      "Requirement already satisfied: joblib>=0.11 in c:\\users\\denys\\anaconda3\\lib\\site-packages (from scikit-learn>=0.21.3->seqeval) (1.1.0)\n"
     ]
    }
   ],
   "source": [
    "!pip install transformers[torch]\n",
    "!pip install datasets\n",
    "!pip install seqeval"
   ]
  },
  {
   "cell_type": "code",
   "execution_count": null,
   "id": "c52b353c-878f-414e-a216-d18bc1a8d0d8",
   "metadata": {},
   "outputs": [],
   "source": [
    "import shutil\n",
    "import os\n",
    "\n",
    "source_dir = '/content/mountain_name_ner/'\n",
    "target_dir = '/content/'\n",
    "\n",
    "if os.path.isdir(target_dir + \"data_preparation\"):\n",
    "    for filename in os.listdir(target_dir):\n",
    "        file_path = os.path.join(target_dir, filename)\n",
    "        try:\n",
    "            if os.path.isfile(file_path) or os.path.islink(file_path):\n",
    "                os.unlink(file_path)\n",
    "            elif os.path.isdir(file_path):\n",
    "                shutil.rmtree(file_path)\n",
    "        except Exception as e:\n",
    "            print('Failed to delete %s. Reason: %s' % (file_path, e))\n",
    "\n",
    "# !gitclonehttps: // git_token @ github.com / sovden / mountain_name_ner.git\n",
    "\n",
    "file_names = os.listdir(source_dir)\n",
    "\n",
    "for file_name in file_names:\n",
    "    shutil.move(os.path.join(source_dir, file_name), target_dir)\n",
    "\n",
    "os.rmdir(source_dir)"
   ]
  },
  {
   "cell_type": "code",
   "execution_count": null,
   "id": "1581b344-5494-4fc9-a401-cc1691d93af4",
   "metadata": {},
   "outputs": [],
   "source": [
    "from HF_training import run_training"
   ]
  },
  {
   "cell_type": "code",
   "execution_count": null,
   "id": "83181584-2852-4d49-93b5-2addf2490e3b",
   "metadata": {},
   "outputs": [],
   "source": [
    "for model_name in [\"albert-base-v2\", \"bert-base-cased\", \"dslim/bert-base-NER\", \"Jorgeutd/albert-base-v2-finetuned-ner\"]:\n",
    "    for learning_rate in [1e-5, 5e-5, 1e-6]:\n",
    "        for epoch_num in [1, 2]:\n",
    "            run_training(is_colab=True,\n",
    "                   model_name=model_name,\n",
    "                   num_train_epochs=epoch_num,\n",
    "                   learning_rate=learning_rate)"
   ]
  }
 ],
 "metadata": {
  "kernelspec": {
   "display_name": "Python 3 (ipykernel)",
   "language": "python",
   "name": "python3"
  },
  "language_info": {
   "codemirror_mode": {
    "name": "ipython",
    "version": 3
   },
   "file_extension": ".py",
   "mimetype": "text/x-python",
   "name": "python",
   "nbconvert_exporter": "python",
   "pygments_lexer": "ipython3",
   "version": "3.9.7"
  }
 },
 "nbformat": 4,
 "nbformat_minor": 5
}
