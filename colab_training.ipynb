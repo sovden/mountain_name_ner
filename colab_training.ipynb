{
 "cells": [
  {
   "cell_type": "code",
   "execution_count": 2,
   "id": "de673ed2-bbf3-4248-8cef-c3cd9d09bd9d",
   "metadata": {
    "tags": []
   },
   "outputs": [],
   "source": [
    "!pip install transformers[torch]\n",
    "!pip install datasets\n",
    "!pip install seqeval"
   ]
  },
  {
   "cell_type": "code",
   "execution_count": null,
   "id": "c52b353c-878f-414e-a216-d18bc1a8d0d8",
   "metadata": {},
   "outputs": [],
   "source": [
    "import shutil\n",
    "import os\n",
    "\n",
    "source_dir = '/content/mountain_name_ner/'\n",
    "target_dir = '/content/'\n",
    "\n",
    "if os.path.isdir(target_dir + \"data_preparation\"):\n",
    "    for filename in os.listdir(target_dir):\n",
    "        file_path = os.path.join(target_dir, filename)\n",
    "        try:\n",
    "            if os.path.isfile(file_path) or os.path.islink(file_path):\n",
    "                os.unlink(file_path)\n",
    "            elif os.path.isdir(file_path):\n",
    "                shutil.rmtree(file_path)\n",
    "        except Exception as e:\n",
    "            print('Failed to delete %s. Reason: %s' % (file_path, e))\n",
    "\n",
    "!git clone https://git_token@github.com/sovden/mountain_name_ner.git\n",
    "\n",
    "file_names = os.listdir(source_dir)\n",
    "\n",
    "for file_name in file_names:\n",
    "    shutil.move(os.path.join(source_dir, file_name), target_dir)\n",
    "\n",
    "os.rmdir(source_dir)"
   ]
  },
  {
   "cell_type": "code",
   "execution_count": null,
   "id": "1581b344-5494-4fc9-a401-cc1691d93af4",
   "metadata": {},
   "outputs": [],
   "source": [
    "from HF_training import run_training, create_datasets"
   ]
  },
  {
   "cell_type": "code",
   "execution_count": null,
   "id": "e1e056ab-1efe-4584-b2d6-30f43cb3d8a1",
   "metadata": {},
   "outputs": [],
   "source": [
    "datasets, label_list = create_datasets(is_colab=True)"
   ]
  },
  {
   "cell_type": "code",
   "execution_count": null,
   "id": "83181584-2852-4d49-93b5-2addf2490e3b",
   "metadata": {},
   "outputs": [],
   "source": [
    "for model_name in [\"albert-base-v2\", \"bert-base-cased\", \"dslim/bert-base-NER\", \"Jorgeutd/albert-base-v2-finetuned-ner\"]:\n",
    "    model_iteration = 0\n",
    "    for learning_rate in [3e-5, 5e-5, 8e-5]:\n",
    "        save_name = f\"{model_name}_{model_iteration}\"\n",
    "        run_training(is_colab=True,\n",
    "                   save_name=save_name,\n",
    "                   model_name=model_name,\n",
    "                   num_train_epochs=2,\n",
    "                   learning_rate=learning_rate,\n",
    "                   dataset_params=(datasets, label_list))\n",
    "      \n",
    "        model_iteration += 1"
   ]
  }
 ],
 "metadata": {
  "kernelspec": {
   "display_name": "Python 3 (ipykernel)",
   "language": "python",
   "name": "python3"
  },
  "language_info": {
   "codemirror_mode": {
    "name": "ipython",
    "version": 3
   },
   "file_extension": ".py",
   "mimetype": "text/x-python",
   "name": "python",
   "nbconvert_exporter": "python",
   "pygments_lexer": "ipython3",
   "version": "3.9.7"
  }
 },
 "nbformat": 4,
 "nbformat_minor": 5
}
