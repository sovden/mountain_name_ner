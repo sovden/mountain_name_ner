{
 "cells": [
  {
   "cell_type": "code",
   "execution_count": 16,
   "id": "882c9ffd-8d3e-4454-a72d-adc7d1573764",
   "metadata": {},
   "outputs": [],
   "source": [
    "import pandas as pd\n",
    "import requests\n",
    "from bs4 import BeautifulSoup\n",
    "import re"
   ]
  },
  {
   "cell_type": "markdown",
   "id": "75ccee49-7085-45ea-8a84-8dd770ed5fd7",
   "metadata": {
    "tags": []
   },
   "source": [
    "# 1. Prepare list of mountains on the earth"
   ]
  },
  {
   "cell_type": "raw",
   "id": "d4d4c5ae-84b7-4354-a781-0b467fdf1aa5",
   "metadata": {},
   "source": [
    "https://en.wikipedia.org/wiki/List_of_mountains_by_elevation gives as complete list of all mountains on earth"
   ]
  },
  {
   "cell_type": "code",
   "execution_count": 2,
   "id": "873f2e87-85df-4e1c-9393-fef1ba446a39",
   "metadata": {},
   "outputs": [
    {
     "name": "stdout",
     "output_type": "stream",
     "text": [
      "200\n"
     ]
    }
   ],
   "source": [
    "# get the response in the form of html\n",
    "wikiurl=\"https://en.wikipedia.org/wiki/List_of_mountains_by_elevation\"\n",
    "table_class=\"wikitable sortable jquery-tablesorter\"\n",
    "response=requests.get(wikiurl)\n",
    "print(response.status_code)"
   ]
  },
  {
   "cell_type": "code",
   "execution_count": 3,
   "id": "62a92d99-e6cf-4307-a4c0-1bf19aa7ee49",
   "metadata": {},
   "outputs": [],
   "source": [
    "# parse data from the html into a beautifulsoup object\n",
    "soup = BeautifulSoup(response.text, 'html.parser')\n",
    "indiatable=soup.find_all('table',{'class':\"wikitable\"})"
   ]
  },
  {
   "cell_type": "code",
   "execution_count": 4,
   "id": "37d818fb-3fb6-4b27-98c7-85731d86cdad",
   "metadata": {},
   "outputs": [
    {
     "name": "stdout",
     "output_type": "stream",
     "text": [
      "(1603, 5)\n"
     ]
    },
    {
     "data": {
      "text/html": [
       "<div>\n",
       "<style scoped>\n",
       "    .dataframe tbody tr th:only-of-type {\n",
       "        vertical-align: middle;\n",
       "    }\n",
       "\n",
       "    .dataframe tbody tr th {\n",
       "        vertical-align: top;\n",
       "    }\n",
       "\n",
       "    .dataframe thead th {\n",
       "        text-align: right;\n",
       "    }\n",
       "</style>\n",
       "<table border=\"1\" class=\"dataframe\">\n",
       "  <thead>\n",
       "    <tr style=\"text-align: right;\">\n",
       "      <th></th>\n",
       "      <th>Mountain</th>\n",
       "      <th>Metres</th>\n",
       "      <th>Feet</th>\n",
       "      <th>Range</th>\n",
       "      <th>Location and Notes</th>\n",
       "    </tr>\n",
       "  </thead>\n",
       "  <tbody>\n",
       "    <tr>\n",
       "      <th>0</th>\n",
       "      <td>Mount Everest</td>\n",
       "      <td>8848.0</td>\n",
       "      <td>29029</td>\n",
       "      <td>Himalayas</td>\n",
       "      <td>Nepal/China</td>\n",
       "    </tr>\n",
       "    <tr>\n",
       "      <th>1</th>\n",
       "      <td>K2</td>\n",
       "      <td>8611.0</td>\n",
       "      <td>28251</td>\n",
       "      <td>Karakoram</td>\n",
       "      <td>Pakistan/China</td>\n",
       "    </tr>\n",
       "    <tr>\n",
       "      <th>2</th>\n",
       "      <td>Kangchenjunga</td>\n",
       "      <td>8586.0</td>\n",
       "      <td>28169</td>\n",
       "      <td>Himalayas</td>\n",
       "      <td>Nepal/India</td>\n",
       "    </tr>\n",
       "    <tr>\n",
       "      <th>3</th>\n",
       "      <td>Lhotse</td>\n",
       "      <td>8516.0</td>\n",
       "      <td>27940</td>\n",
       "      <td>Himalayas</td>\n",
       "      <td>Nepal – Climbers ascend Lhotse Face in climbin...</td>\n",
       "    </tr>\n",
       "    <tr>\n",
       "      <th>4</th>\n",
       "      <td>Makalu</td>\n",
       "      <td>8485.0</td>\n",
       "      <td>27838</td>\n",
       "      <td>Himalayas</td>\n",
       "      <td>Nepal</td>\n",
       "    </tr>\n",
       "  </tbody>\n",
       "</table>\n",
       "</div>"
      ],
      "text/plain": [
       "        Mountain  Metres   Feet      Range  \\\n",
       "0  Mount Everest  8848.0  29029  Himalayas   \n",
       "1             K2  8611.0  28251  Karakoram   \n",
       "2  Kangchenjunga  8586.0  28169  Himalayas   \n",
       "3         Lhotse  8516.0  27940  Himalayas   \n",
       "4         Makalu  8485.0  27838  Himalayas   \n",
       "\n",
       "                                  Location and Notes  \n",
       "0                                        Nepal/China  \n",
       "1                                     Pakistan/China  \n",
       "2                                        Nepal/India  \n",
       "3  Nepal – Climbers ascend Lhotse Face in climbin...  \n",
       "4                                              Nepal  "
      ]
     },
     "execution_count": 4,
     "metadata": {},
     "output_type": "execute_result"
    }
   ],
   "source": [
    "df = pd.DataFrame()\n",
    "for html_table in indiatable:\n",
    "    df = df.append(pd.read_html(str(html_table))[0])\n",
    "print(df.shape)\n",
    "df.head(5)"
   ]
  },
  {
   "cell_type": "code",
   "execution_count": 5,
   "id": "6e942d3e-6020-40dd-b9df-3a58224a77fb",
   "metadata": {},
   "outputs": [],
   "source": [
    "df[[\"Mountain\"]].drop_duplicates().to_csv(\"raw_data/list_of_earth_mountains.csv\", index=False)"
   ]
  },
  {
   "cell_type": "code",
   "execution_count": null,
   "id": "0a9c19e5-7e26-4ebd-825d-36e6a065277f",
   "metadata": {},
   "outputs": [],
   "source": []
  },
  {
   "cell_type": "markdown",
   "id": "e39a82d1-dbac-4b3f-be85-73d2e7052943",
   "metadata": {},
   "source": [
    "# 2. Parse hikers forum"
   ]
  },
  {
   "cell_type": "raw",
   "id": "0d0d40af-3648-4289-b74a-b78a28630758",
   "metadata": {},
   "source": [
    "Only one forum was parsed (it turned out that there are not so many of them with appropriate topics).\n",
    "Also, it will be very useful to parse Quora"
   ]
  },
  {
   "cell_type": "code",
   "execution_count": 51,
   "id": "7a850bb2-da76-42f5-ba40-8afa7e36fe37",
   "metadata": {},
   "outputs": [
    {
     "name": "stdout",
     "output_type": "stream",
     "text": [
      "200\n"
     ]
    }
   ],
   "source": [
    "# get the response in the form of html\n",
    "wikiurl=\"https://community.ricksteves.com/travel-forum/beyond-europe/most-beautiful-mountain\"\n",
    "response=requests.get(wikiurl)\n",
    "print(response.status_code)"
   ]
  },
  {
   "cell_type": "code",
   "execution_count": 57,
   "id": "8a275072-bed1-4b78-8edb-f73b0e89884d",
   "metadata": {},
   "outputs": [],
   "source": [
    "# parse data from the html into a beautifulsoup object\n",
    "soup = BeautifulSoup(response.text, 'html.parser')\n",
    "indiatable=soup.find_all('p')"
   ]
  },
  {
   "cell_type": "code",
   "execution_count": 58,
   "id": "0a6fb1fc-dd76-4ead-9d1e-f6b7a9dfb282",
   "metadata": {},
   "outputs": [],
   "source": [
    "list_of_sentences_blog = []\n",
    "for row in indiatable:\n",
    "    row = str(row)\n",
    "    row = re.sub(r\"[\\<].*?[\\>]\", '', str(row))\n",
    "    if (\"http\" not in row) & (len(row) > 10):\n",
    "        list_of_sentences_blog.extend([sentence.strip() for sentence in row.split(\"\\n\")])"
   ]
  },
  {
   "cell_type": "code",
   "execution_count": 59,
   "id": "45174f7a-a593-444b-b282-be22bca1510f",
   "metadata": {},
   "outputs": [
    {
     "data": {
      "text/plain": [
       "['I need a lift today, and thought I would start a conversation about beautiful mountains.  The thought was triggered by a photo of the Matterhorn that came in an email from a travel company.  I have heard the Matterhorn described as “the most beautiful mountain in the world” and having been privileged to see her up close for several consecutive days while hiking around Zermatt, I might agree.  The shape is graceful and unforgettable.',\n",
       " 'But in my mind the Matterhorn has strong competition from our local volcano Mt. Rainier, especially in summer, with her green and flowery Paradise meadows capped by a mostly-snow covered summit.  Also from The Great One, Denali, which is huge and impressive when seen from the Stony Overlook or from the Kantishna area.  When we are in Denali National Park at our favorite wilderness lodge, and this mountain comes out from behind the clouds, all I want to do is sit and gaze at him.  In June this can occur around midnight, when the mountain is tinged with pink from the setting sun.  But I find him most beautiful at midday, all snowy white against a deep blue Alaska sky.',\n",
       " '(Yes, mountains do have gender in my mind).',\n",
       " 'Do you have a favorite?',\n",
       " \"I haven't had the opportunity to see the Matterhorn, but would agree when Mt. Rainier is in it's glory their is nothing like it.  Just two weeks ago on a clear day at sunrise I caught several photos from Seattle.  The colors were magnificient!  I too, needed a lift today.  Thank you Lola.\"]"
      ]
     },
     "execution_count": 59,
     "metadata": {},
     "output_type": "execute_result"
    }
   ],
   "source": [
    "list_of_sentences_blog[:5]"
   ]
  },
  {
   "cell_type": "code",
   "execution_count": 60,
   "id": "4e7d7b12-ca6b-45bd-b755-9b54f1444445",
   "metadata": {},
   "outputs": [],
   "source": [
    "with open(\"raw_data/hiking_forums.txt\", \"a\") as f:\n",
    "    for row in list_of_sentences_blog:\n",
    "        f.write(row + \".\\n\")"
   ]
  },
  {
   "cell_type": "code",
   "execution_count": null,
   "id": "d9b08479-9e9e-4131-a5e4-c3795c352684",
   "metadata": {},
   "outputs": [],
   "source": []
  }
 ],
 "metadata": {
  "kernelspec": {
   "display_name": "Python 3 (ipykernel)",
   "language": "python",
   "name": "python3"
  },
  "language_info": {
   "codemirror_mode": {
    "name": "ipython",
    "version": 3
   },
   "file_extension": ".py",
   "mimetype": "text/x-python",
   "name": "python",
   "nbconvert_exporter": "python",
   "pygments_lexer": "ipython3",
   "version": "3.9.7"
  }
 },
 "nbformat": 4,
 "nbformat_minor": 5
}
