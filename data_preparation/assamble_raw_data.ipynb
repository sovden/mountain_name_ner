{
 "cells": [
  {
   "cell_type": "code",
   "execution_count": 1,
   "id": "0d570cb8-e3ca-4bbb-a6de-d73f7f1d0004",
   "metadata": {},
   "outputs": [],
   "source": [
    "import pandas as pd\n",
    "import re"
   ]
  },
  {
   "cell_type": "markdown",
   "id": "6bade613-cc15-4af7-a064-8c17dba0e8e7",
   "metadata": {
    "tags": []
   },
   "source": [
    "# 1. List of mountains"
   ]
  },
  {
   "cell_type": "code",
   "execution_count": 370,
   "id": "406dea31-d2a2-45ef-a976-9472671bf43a",
   "metadata": {},
   "outputs": [],
   "source": [
    "def get_list_of_mountains():\n",
    "    # for simplicity it was decided avoid casing\n",
    "    list_of_mountains_raw = pd.read_csv(\"raw_data/list_of_earth_mountains.csv\")[\"Mountain\"].str.lower().unique()\n",
    "    \n",
    "    # delete brackets info, 'mount washington (british columbia)' -> 'mount washington'\n",
    "    list_of_mountains_raw = [re.sub(r\"[\\(\\[].*?[\\)\\]]\", '', name).strip() for name in list_of_mountains_raw]\n",
    "    \n",
    "    # It turned out that a lot of mountains have name of format MOUNT %FAMOUS LOCATION% (MOUNT WASHINGTON), while some other names are equally often used \n",
    "    # with and without word MOUNT (EVEREST/MOUNT EVETEST). In this task, it was decided manualy define list of names with mandotary word MOUNT to avoid confusing, \n",
    "    # while for every other delete this prefix.\n",
    "    \n",
    "    # list is incomplete, to define better list probably we can reanalysed gathered data, and define cases when we have confusion of mount name with location/person\n",
    "    not_to_short = ['mount kenya', 'mount stanley', 'mount sanford', 'mount wood',\n",
    "     'mount vancouver', 'mount churchill','mount bear', 'mount massive',\n",
    "     'mount harvard', 'mount lincoln', 'mount blue sky','mount wilsion', 'mount belford',\n",
    "     'mount princeton','missouri mountain', 'mount columbia', 'missouri mountain','mount lindsey',\n",
    "     'mount sherman','mount kennedy', 'mount darwin','mount cook', 'mount warren','mount dickerson',\n",
    "     'mount woodrow wilson','mount cameroon','mount walter','mount julian','mount washington','mount wellington',\n",
    "     'seward mountain', 'mount marshall', 'allen mountain', 'mount ball', 'mount muir', 'north mountain', 'mount royal',\n",
    "     'mount daniel', 'boulder mountain', 'mount rose', 'mount hayes', 'cascade mountain', 'mount martin',\n",
    "    'mount lowe', 'mount morning', 'mount cleveland', 'mount davis', 'mount asgard','mount dick', 'mount whitney', 'mount rogers',\n",
    "    'mount washington', 'mount washington', 'mount lofty', 'blue mountains']\n",
    "    \n",
    "    list_of_mountains_short = [name.replace(\"mountain\",\"\").replace(\"mount\",\"\").strip() if name not in not_to_short else name for name in list_of_mountains_raw]\n",
    "    \n",
    "    return list_of_mountains_short"
   ]
  },
  {
   "cell_type": "raw",
   "id": "27a4279f-70f7-45a6-a74f-281747d98fe0",
   "metadata": {},
   "source": [
    "It turned out that a lot of mountains have name of format MOUNT %FAMOUS LOCATION% (MOUNT WASHINGTON), while some other names are equally often used with and without word MOUNT (EVEREST/MOUNT EVETEST). In this task, it was decided manualy define list of names with mandotary word MOUNT to avoid confusing, while for every other delete this prefix."
   ]
  },
  {
   "cell_type": "code",
   "execution_count": 371,
   "id": "8ebc3236-23b0-4c6f-8b91-a2e67fdb26ae",
   "metadata": {},
   "outputs": [],
   "source": [
    "get_list_of_mountains = get_list_of_mountains()"
   ]
  },
  {
   "cell_type": "markdown",
   "id": "8ab905df-73ff-438c-8f7b-65253e4d2aa7",
   "metadata": {
    "tags": []
   },
   "source": [
    "# 2. get data with mountain names"
   ]
  },
  {
   "cell_type": "code",
   "execution_count": 387,
   "id": "4e5a316d-eb2a-4bba-89d3-b7fda914b786",
   "metadata": {},
   "outputs": [],
   "source": [
    "# HELP FUNCTIONS\n",
    "def find_mount(sentences, short_list_of_mountains=list_of_mountains_short, raw_list_of_mountains=list_of_mountains_raw): \n",
    "    \"\"\"\n",
    "    check if raw sentece has any name from the list_of_mountains\n",
    "    if mount name in sentece -> create list [sentence, short_mount_name, raw_mount_name]\n",
    "    \"\"\"\n",
    "    sentences_with_mount = []\n",
    "    for sentence in sentences:\n",
    "        # remove all punctuation, brackets, etc\n",
    "        sentence = re.sub('[^A-Za-z0-9]+', ' ', sentence).strip().lower()\n",
    "        \n",
    "        for name_idx in range(len(short_list_of_mountains)):\n",
    "            mountain = short_list_of_mountains[name_idx]\n",
    "            \n",
    "            # some one word names could be part of bigger unrelated words, for example mount Api in Nepal\n",
    "            # assuming that 2+ words names dont have this problem, we check one word names by spliting sentence,\n",
    "            # while for 2+ words names just check if sentense include certain name\n",
    "            if len(mountain.split()) > 1:\n",
    "                if mountain in sentence:\n",
    "                    sentences_with_mount.append([sentence, mountain, raw_list_of_mountains[name_idx]])\n",
    "            else:\n",
    "                if mountain in sentence.split():\n",
    "                    sentences_with_mount.append([sentence, mountain, raw_list_of_mountains[name_idx]])\n",
    "    \n",
    "    print(f\"input numbe of sentences: {len(sentences)}, mount was found in {len(sentences_with_mount)} sentences\")\n",
    "    \n",
    "    return sentences_with_mount\n",
    "\n",
    "def read_raw_txt_data(file_path):\n",
    "    with open(file_path, \"r\") as f:\n",
    "        content = f.read().strip()\n",
    "        sentences = [row for row in content.split(\"\\n\") if len(row) > 2]\n",
    "    return sentences\n",
    "\n",
    "def specific_symbol_cleaning(sentence):\n",
    "    symbols_to_replace = [[\"Ã¼\",\"u\"], [\"Ã¶\", \"o\"],[\"â€“\",\"-\"],[\"Ã©\",\"e\"], [\"Ã³\",\"o\"], [\"Â°\",\"*\"]]\n",
    "    for symbols in symbols_to_replace:\n",
    "        sentence = sentence.replace(symbols[0], symbols[1]) \n",
    "    return sentence\n",
    "\n",
    "\n",
    "class GetCleanDataWithMountains:\n",
    "    def __init__(self):\n",
    "        self.list_of_climbings_path = \"raw_data/list_of_climbings_wikipedia.txt\"\n",
    "        self.hiking_forums_path = \"raw_data/hiking_forums.txt\"\n",
    "        self.science_texts_path = \"raw_data/science_texts.txt\"\n",
    "        self.chatgpt_1_path = \"raw_data/chatgpt_1.txt\"\n",
    "        self.chatgpt_2_path = \"raw_data/chatgpt_2.txt\"\n",
    "        \n",
    "    def get_list_of_climbings_data(self):\n",
    "        list_of_climbings_sentences = read_raw_txt_data(self.list_of_climbings_path)\n",
    "        # brackets cleaning\n",
    "        list_of_climbings_sentences = [re.sub(r\"[\\[\\(].*?[\\]\\)]\", '', sent) for sent in list_of_climbings_sentences]\n",
    "        # delete year part from  year: sentence formatted rows\n",
    "        list_of_climbings_sentences = [sent.split(\":\")[1].strip() if len(sent.split(\":\")) > 1 else sent for sent in list_of_climbings_sentences]\n",
    "        # specific symbol cleaning \n",
    "        list_of_climbings_sentences = [specific_symbol_cleaning(sent) for sent in list_of_climbings_sentences]\n",
    "        \n",
    "        return find_mount(list_of_climbings_sentences)\n",
    "    \n",
    "    def get_hiking_forums_data(self):\n",
    "        hiking_forums_sentences = read_raw_txt_data(self.hiking_forums_path)\n",
    "        \n",
    "        return find_mount(hiking_forums_sentences)\n",
    "    \n",
    "    def get_science_texts_data(self):\n",
    "        science_texts_sentences = read_raw_txt_data(self.science_texts_path)\n",
    "        # brackets cleaning\n",
    "        science_texts_sentences = [re.sub(r\"[\\[\\(].*?[\\]\\)]\", '', sent) for sent in science_texts_sentences]\n",
    "        # specific symbol cleaning \n",
    "        science_texts_sentences = [specific_symbol_cleaning(sent) for sent in science_texts_sentences]\n",
    "        \n",
    "        return find_mount(science_texts_sentences)\n",
    "    \n",
    "    def get_chat_gpt_1_data(self):\n",
    "        chatgpt_1_sentences = read_raw_txt_data(self.chatgpt_1_path)\n",
    "        # brackets cleaning\n",
    "        chatgpt_1_sentences = [re.sub(r\"[\\[\\(].*?[\\]\\)]\", '', sent) for sent in chatgpt_1_sentences]\n",
    "        # delete year part from  year: sentence formatted rows\n",
    "        chatgpt_1_sentences = [sent.split(\":\")[1].strip() if len(sent.split(\":\")) > 1 else sent for sent in chatgpt_1_sentences]\n",
    "        chatgpt_1_sentences = [specific_symbol_cleaning(sent) for sent in chatgpt_1_sentences]\n",
    "        # additional cleaning\n",
    "        chatgpt_1_sentences = [sent.replace(\"\\'s\",\"\").replace('\"',\"\") for sent in chatgpt_1_sentences if len(sent) > 1]\n",
    "        \n",
    "        return find_mount(chatgpt_1_sentences)\n",
    "    \n",
    "    def get_chat_gpt_2_data(self):\n",
    "        chatgpt_2_sentences = read_raw_txt_data(self.chatgpt_2_path)\n",
    "        # brackets cleaning\n",
    "        chatgpt_2_sentences = [re.sub(r\"[\\[\\(].*?[\\]\\)]\", '', sent) for sent in chatgpt_2_sentences]\n",
    "        # delete year part from  year: sentence formatted rows\n",
    "        chatgpt_2_sentences = [sent.split(\":\")[1].strip() if len(sent.split(\":\")) > 1 else sent for sent in chatgpt_2_sentences]\n",
    "        chatgpt_2_sentences = [specific_symbol_cleaning(sent) for sent in chatgpt_2_sentences]\n",
    "        # additional cleaning\n",
    "        chatgpt_2_sentences = [sent.replace(\"\\'s\",\"\").replace('\"',\"\") for sent in chatgpt_2_sentences if len(sent) > 1]\n",
    "        \n",
    "        return find_mount(chatgpt_2_sentences)"
   ]
  },
  {
   "cell_type": "code",
   "execution_count": 388,
   "id": "41906452-0d5b-45b4-8f13-080828b863d1",
   "metadata": {},
   "outputs": [
    {
     "name": "stdout",
     "output_type": "stream",
     "text": [
      "data we have:\n",
      " {'list_of_climbings_path': 'raw_data/list_of_climbings_wikipedia.txt', 'hiking_forums_path': 'raw_data/hiking_forums.txt', 'science_texts_path': 'raw_data/science_texts.txt', 'chatgpt_1_path': 'raw_data/chatgpt_1.txt', 'chatgpt_2_path': 'raw_data/chatgpt_2.txt'}\n",
      "input numbe of sentences: 294, mount was found in 38 sentences\n",
      "input numbe of sentences: 101, mount was found in 85 sentences\n",
      "input numbe of sentences: 36, mount was found in 19 sentences\n",
      "input numbe of sentences: 171, mount was found in 131 sentences\n",
      "input numbe of sentences: 290, mount was found in 230 sentences\n"
     ]
    }
   ],
   "source": [
    "get_data = GetCleanDataWithMountains()\n",
    "print(\"data we have:\\n\", get_data.__dict__)\n",
    "\n",
    "list_of_climbings_data = get_data.get_list_of_climbings_data()\n",
    "hiking_forums_data = get_data.get_hiking_forums_data()\n",
    "science_texts_data = get_data.get_science_texts_data()\n",
    "chatgpt_1_data = get_data.get_chat_gpt_1_data()\n",
    "chatgpt_2_data = get_data.get_chat_gpt_2_data()"
   ]
  },
  {
   "cell_type": "markdown",
   "id": "b15a0ad4-f970-423d-a635-dbb8a290f18c",
   "metadata": {
    "tags": []
   },
   "source": [
    "# 3. Assamble all data \n"
   ]
  },
  {
   "cell_type": "code",
   "execution_count": 405,
   "id": "ae381bc3-5bcb-4e6c-8317-4bef734a2c00",
   "metadata": {},
   "outputs": [],
   "source": [
    "sentences_with_mount = list_of_climbings_data + hiking_forums_data + science_texts_data + chatgpt_1_data + chatgpt_2_data\n",
    "dataset = pd.DataFrame(sentences_with_mount).drop_duplicates()\n",
    "dataset.columns = [\"cleaned_sentence\", \"mount_short\", \"mount\"]\n",
    "\n",
    "# unify 2 mountains 'gasherbrum ii' and 'gasherbrum i' without loosing of diversity\n",
    "# since 'gasherbrum i' in 'gasherbrum ii' = True, it can cause problems\n",
    "gash_2 = 'gasherbrum ii'\n",
    "gash_1 = 'gasherbrum i'\n",
    "gash = 'gasherbrum'\n",
    "\n",
    "dataset[\"cleaned_sentence\"] = dataset[\"cleaned_sentence\"].str.replace(gash_2, gash)\n",
    "dataset[\"cleaned_sentence\"] = dataset[\"cleaned_sentence\"].str.replace(gash_1, gash)\n",
    "\n",
    "dataset[\"mount_short\"] = dataset[\"mount_short\"].str.replace(gash_2, gash)\n",
    "dataset[\"mount_short\"] = dataset[\"mount_short\"].str.replace(gash_1, gash)"
   ]
  },
  {
   "cell_type": "code",
   "execution_count": 406,
   "id": "0156edfd-d332-4206-a46a-74ccfa41af74",
   "metadata": {},
   "outputs": [
    {
     "data": {
      "text/plain": [
       "<AxesSubplot:>"
      ]
     },
     "execution_count": 406,
     "metadata": {},
     "output_type": "execute_result"
    },
    {
     "data": {
      "image/png": "[encoded data removed]",
      "text/plain": [
       "<Figure size 432x288 with 1 Axes>"
      ]
     },
     "metadata": {
      "needs_background": "light"
     },
     "output_type": "display_data"
    }
   ],
   "source": [
    "(dataset[\"cleaned_sentence\"].str.len() - dataset[\"mount_short\"].str.len()).hist(bins=20)"
   ]
  },
  {
   "cell_type": "code",
   "execution_count": 407,
   "id": "d7ef08af-9bd5-40dc-85c7-842633e8ba33",
   "metadata": {},
   "outputs": [
    {
     "data": {
      "text/plain": [
       "<AxesSubplot:>"
      ]
     },
     "execution_count": 407,
     "metadata": {},
     "output_type": "execute_result"
    },
    {
     "data": {
      "image/png": "[encoded data removed]",
      "text/plain": [
       "<Figure size 432x288 with 1 Axes>"
      ]
     },
     "metadata": {
      "needs_background": "light"
     },
     "output_type": "display_data"
    }
   ],
   "source": [
    "(dataset.loc[dataset[\"cleaned_sentence\"].str.len() < 200][\"cleaned_sentence\"].str.len() - \n",
    "dataset.loc[dataset[\"cleaned_sentence\"].str.len() < 200][\"mount_short\"].str.len()).hist(bins=20)"
   ]
  },
  {
   "cell_type": "code",
   "execution_count": 408,
   "id": "004daa74-dd8c-42e8-bd14-999d5b3bac4d",
   "metadata": {},
   "outputs": [],
   "source": [
    "dataset = dataset.loc[dataset[\"cleaned_sentence\"].str.len() - dataset[\"mount_short\"].str.len() > 25]"
   ]
  },
  {
   "cell_type": "code",
   "execution_count": 409,
   "id": "0818d269-b942-475d-b922-c5d9eade3583",
   "metadata": {},
   "outputs": [
    {
     "name": "stdout",
     "output_type": "stream",
     "text": [
      "data consisten: True, inconsitent data: []\n"
     ]
    }
   ],
   "source": [
    "# check for consistency that sentence is each row has related mount_short in it\n",
    "is_mount = []\n",
    "not_is_mount = []\n",
    "for row in dataset.values:\n",
    "    is_mount.append(row[1] in row[0])\n",
    "    if not row[1] in row[2]:\n",
    "        not_is_mount.append(list(row))\n",
    "\n",
    "print(f\"data consisten: {len(is_mount) == sum(is_mount)}, inconsitent data: {not_is_mount}\")"
   ]
  },
  {
   "cell_type": "code",
   "execution_count": 410,
   "id": "7313a295-7872-4f19-9c4a-43c160835736",
   "metadata": {},
   "outputs": [],
   "source": [
    "# one sentence can have a few mountain name in it\n",
    "dataset_grouped = dataset.groupby([\"cleaned_sentence\"])[\"mount_short\"].apply(list).reset_index(name=\"mount_list\")"
   ]
  },
  {
   "cell_type": "markdown",
   "id": "c5974152-f673-47c8-af53-c67c654462e5",
   "metadata": {},
   "source": [
    "# 4. Create Tags"
   ]
  },
  {
   "cell_type": "code",
   "execution_count": 411,
   "id": "88ca70e4-8279-423a-bf1e-768ee4630340",
   "metadata": {},
   "outputs": [],
   "source": [
    "def intermediate_mon_tag(sentence, mount_list): \n",
    "    ss = sentence\n",
    "    for i in range(len(mount_list)):\n",
    "        sentence = sentence.replace(mount_list[i], f\"mount_name_{i}\")\n",
    "        # FIXME\n",
    "        sentence = sentence.replace(\"mount_name_0s\", \"mount_name_0\")\n",
    "    return sentence"
   ]
  },
  {
   "cell_type": "code",
   "execution_count": 412,
   "id": "b2224374-61b3-4296-9e05-e0dad31e802c",
   "metadata": {},
   "outputs": [],
   "source": [
    "def create_tags(sentence, mount_list):\n",
    "    tags = []\n",
    "    for word in sentence.split():\n",
    "        if \"mount_name\" in word:\n",
    "            if \"i\" in word:\n",
    "                print(word)\n",
    "            mount_idx = int(word.split(\"_\")[2])\n",
    "            splited_name = mount_list[mount_idx].split()\n",
    "            if len(splited_name) > 1: \n",
    "                tags.append(\"B-MON\")\n",
    "                for i_double in range(len(splited_name)-1):\n",
    "                    tags.append(\"I-MON\")\n",
    "            else:\n",
    "                tags.append(\"I-MON\")\n",
    "        else:\n",
    "            tags.append(\"O\")\n",
    "    return tags"
   ]
  },
  {
   "cell_type": "code",
   "execution_count": 413,
   "id": "5cdc82ad-cf01-4046-8726-3a353b28d151",
   "metadata": {},
   "outputs": [],
   "source": [
    "tags_col = [create_tags(intermediate_mon_tag(row[0], row[1]),row[1]) for row in dataset_grouped.values]\n",
    "dataset_grouped[\"tags\"] = tags_col"
   ]
  },
  {
   "cell_type": "code",
   "execution_count": 414,
   "id": "9abd0e86-3786-42a8-bf5e-aeb0b6d58f04",
   "metadata": {},
   "outputs": [
    {
     "data": {
      "text/plain": [
       "array([], shape=(0, 3), dtype=object)"
      ]
     },
     "execution_count": 414,
     "metadata": {},
     "output_type": "execute_result"
    }
   ],
   "source": [
    "# Check for data consistency:\n",
    "# number of words = number of tags\n",
    "dataset_grouped.loc[dataset_grouped[\"cleaned_sentence\"].apply(lambda x: len(x.split())) != dataset_grouped[\"tags\"].apply(lambda x: len(x))].values"
   ]
  },
  {
   "cell_type": "code",
   "execution_count": 415,
   "id": "8cbb010d-c501-4100-bfb7-f2bc5e1e86de",
   "metadata": {},
   "outputs": [
    {
     "data": {
      "text/plain": [
       "array([['you transported me back to the time my kids and i drove up mauna kea and brought some snow down the mountain it melted really fast though and i don t think we even got to the saddle road before it disappeared another time i took my girl scout troop to the observatory for a look see it was a fun and educational experience for the girls what is beautiful about visiting the volcano areas of the big island for me is the flora and birds my daughter studied the honeycreeper birds apapane akepa iiwi with a uwhilo professor during her time at the university for me i love the ohia lehua that grows near volcanoes they make such a lovely haku lei',\n",
       "        list(['mauna kea', 'haku']),\n",
       "        list(['O', 'O', 'O', 'O', 'O', 'O', 'O', 'O', 'O', 'O', 'O', 'O', 'O', 'B-MON', 'I-MON', 'O', 'O', 'O', 'O', 'O', 'O', 'O', 'O', 'O', 'O', 'O', 'O', 'O', 'O', 'O', 'O', 'O', 'O', 'O', 'O', 'O', 'O', 'O', 'O', 'O', 'O', 'O', 'O', 'O', 'O', 'O', 'O', 'O', 'O', 'O', 'O', 'O', 'O', 'O', 'O', 'O', 'O', 'O', 'O', 'O', 'O', 'O', 'O', 'O', 'O', 'O', 'O', 'O', 'O', 'O', 'O', 'O', 'O', 'O', 'O', 'O', 'O', 'O', 'O', 'O', 'O', 'O', 'O', 'O', 'O', 'O', 'O', 'O', 'O', 'O', 'O', 'O', 'O', 'O', 'O', 'O', 'O', 'O', 'O', 'O', 'O', 'O', 'O', 'O', 'O', 'O', 'O', 'O', 'O', 'O', 'O', 'O', 'O', 'O', 'O', 'O', 'O', 'O', 'O', 'O', 'O', 'I-MON', 'O'])],\n",
       "       ['capturing the rolling hills and rugged beauty of the colorado rockies with pikes peak distinct summit',\n",
       "        list(['pikes peak', 'rugged']),\n",
       "        list(['O', 'O', 'O', 'O', 'O', 'I-MON', 'O', 'O', 'O', 'O', 'O', 'O', 'B-MON', 'I-MON', 'O', 'O'])],\n",
       "       ['mont blanc the monarch of the alps presided over a realm of ice and stone',\n",
       "        list(['mont blanc', 'monarch']),\n",
       "        list(['B-MON', 'I-MON', 'O', 'I-MON', 'O', 'O', 'O', 'O', 'O', 'O', 'O', 'O', 'O', 'O', 'O'])]],\n",
       "      dtype=object)"
      ]
     },
     "execution_count": 415,
     "metadata": {},
     "output_type": "execute_result"
    }
   ],
   "source": [
    "# check that tags in correct order. There is a possibility that some 2 word tag will be on the place of one word tag -> shifting of all tokens\n",
    "mount_list_length = dataset_grouped[\"mount_list\"].apply(lambda x: len(x))\n",
    "dataset_grouped.loc[(dataset_grouped[\"mount_list\"].apply(lambda x: len(' '.join(x).split())) > mount_list_length)\n",
    "                    & (mount_list_length > 1)].sample(3).values"
   ]
  },
  {
   "cell_type": "code",
   "execution_count": 402,
   "id": "6b3bc7a8-34f6-49f6-8eca-a35fe551ad6e",
   "metadata": {},
   "outputs": [],
   "source": [
    "dataset_grouped.to_csv(\"clean_data/dataset_mountains.csv\", index=False, sep=\";\")"
   ]
  },
  {
   "cell_type": "code",
   "execution_count": 404,
   "id": "2e0f67c3-7d19-40c5-8609-3358c9d66b24",
   "metadata": {},
   "outputs": [],
   "source": [
    "# save data in format of conll2003 NER Dataset\n",
    "# https://www.kaggle.com/datasets/juliangarratt/conll2003-dataset\n",
    "with open(\"clean_data/dataset_mountains.txt\", \"a\") as f:\n",
    "    f.write(\"-DOCSTART- O\\n\\n\")\n",
    "    for row in dataset_grouped.values:\n",
    "        for word, tag in zip(row[0].split(), row[2]):\n",
    "            string_to_write = word + \" \" + tag + \"\\n\"\n",
    "            f.write(string_to_write)\n",
    "        f.write(\"\\n\")"
   ]
  }
 ],
 "metadata": {
  "kernelspec": {
   "display_name": "Python 3 (ipykernel)",
   "language": "python",
   "name": "python3"
  },
  "language_info": {
   "codemirror_mode": {
    "name": "ipython",
    "version": 3
   },
   "file_extension": ".py",
   "mimetype": "text/x-python",
   "name": "python",
   "nbconvert_exporter": "python",
   "pygments_lexer": "ipython3",
   "version": "3.9.7"
  }
 },
 "nbformat": 4,
 "nbformat_minor": 5
}
